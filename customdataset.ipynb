{
 "cells": [
  {
   "cell_type": "code",
   "execution_count": 1,
   "id": "c74c5553",
   "metadata": {},
   "outputs": [],
   "source": [
    "import os\n",
    "import glob\n",
    "import torch\n",
    "from PIL import Image\n",
    "from torch.utils.data import Dataset"
   ]
  },
  {
   "cell_type": "code",
   "execution_count": 3,
   "id": "2bfa4423",
   "metadata": {},
   "outputs": [],
   "source": [
    "class CustomDataset(Dataset):\n",
    "    def __init__(self, root_dir, transform=None):\n",
    "\n",
    "        self.root_dir = root_dir\n",
    "        self.transform = transform\n",
    "        self.class_map = {'cats': 0, 'dogs': 1} #Classes name so that it will change from string to 0/1/2/3/4 depends on the cls\n",
    "        self.data = []\n",
    "\n",
    "        # Iterate over cat and dog folders\n",
    "        #Dataset directory -> data/train/cats or data/train/dogs or data/test/cats or data/test/dogs\n",
    "        #Dataset directory -> data/cats or data/dogs\n",
    "        \n",
    "        for class_name in self.class_map.keys():\n",
    "            class_folder = os.path.join(root_dir, class_name)\n",
    "            image_files = glob.glob(os.path.join(class_folder, '*.jpg'))\n",
    "\n",
    "            for img_path in image_files:\n",
    "                image = Image.open(img_path)\n",
    "                self.data.append((image, self.class_map[class_name])) #image value and its class/label\n",
    "\n",
    "    def __len__(self):\n",
    "        return len(self.data)\n",
    "\n",
    "    def __getitem__(self, idx):\n",
    "        image, class_id = self.data[idx]\n",
    "\n",
    "        #class_id = torch.from_numpy(class_id)\n",
    "        #class_id = torch.tensor(class_id).reshape(-1)\n",
    "\n",
    "        if self.transform:\n",
    "            image = self.transform(image)\n",
    "    \n",
    "        return image, class_id"
   ]
  },
  {
   "cell_type": "code",
   "execution_count": null,
   "id": "475fc4d0",
   "metadata": {},
   "outputs": [],
   "source": []
  }
 ],
 "metadata": {
  "kernelspec": {
   "display_name": "Python 3 (ipykernel)",
   "language": "python",
   "name": "python3"
  },
  "language_info": {
   "codemirror_mode": {
    "name": "ipython",
    "version": 3
   },
   "file_extension": ".py",
   "mimetype": "text/x-python",
   "name": "python",
   "nbconvert_exporter": "python",
   "pygments_lexer": "ipython3",
   "version": "3.9.9"
  }
 },
 "nbformat": 4,
 "nbformat_minor": 5
}
